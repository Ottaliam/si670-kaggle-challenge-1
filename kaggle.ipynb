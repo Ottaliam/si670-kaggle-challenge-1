{
 "cells": [
  {
   "cell_type": "code",
   "execution_count": null,
   "id": "d8085b8a",
   "metadata": {},
   "outputs": [],
   "source": [
    "# This is the code for SI 671 Kaggle competition 1"
   ]
  }
 ],
 "metadata": {
  "language_info": {
   "name": "python"
  }
 },
 "nbformat": 4,
 "nbformat_minor": 5
}
