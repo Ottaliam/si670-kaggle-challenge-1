{
 "cells": [
  {
   "cell_type": "code",
   "execution_count": 1,
   "id": "d8085b8a",
   "metadata": {},
   "outputs": [],
   "source": [
    "# This is the code for SI 671 Kaggle competition 1"
   ]
  },
  {
   "cell_type": "code",
   "execution_count": 2,
   "id": "22dd8ba9",
   "metadata": {},
   "outputs": [],
   "source": [
    "import pandas as pd\n",
    "import numpy as np\n"
   ]
  },
  {
   "cell_type": "code",
   "execution_count": 3,
   "id": "512d3778",
   "metadata": {},
   "outputs": [],
   "source": [
    "# !kaggle competitions download -c f-25-si-670-kaggle-1"
   ]
  },
  {
   "cell_type": "code",
   "execution_count": 4,
   "id": "2283c98f",
   "metadata": {},
   "outputs": [
    {
     "data": {
      "text/html": [
       "<div>\n",
       "<style scoped>\n",
       "    .dataframe tbody tr th:only-of-type {\n",
       "        vertical-align: middle;\n",
       "    }\n",
       "\n",
       "    .dataframe tbody tr th {\n",
       "        vertical-align: top;\n",
       "    }\n",
       "\n",
       "    .dataframe thead th {\n",
       "        text-align: right;\n",
       "    }\n",
       "</style>\n",
       "<table border=\"1\" class=\"dataframe\">\n",
       "  <thead>\n",
       "    <tr style=\"text-align: right;\">\n",
       "      <th></th>\n",
       "      <th>text</th>\n",
       "      <th>label</th>\n",
       "    </tr>\n",
       "    <tr>\n",
       "      <th>id</th>\n",
       "      <th></th>\n",
       "      <th></th>\n",
       "    </tr>\n",
       "  </thead>\n",
       "  <tbody>\n",
       "    <tr>\n",
       "      <th>0</th>\n",
       "      <td>White girls very rarely date Asian men. Even i...</td>\n",
       "      <td>1</td>\n",
       "    </tr>\n",
       "    <tr>\n",
       "      <th>1</th>\n",
       "      <td>I am a 23 year old male Indian American male. ...</td>\n",
       "      <td>1</td>\n",
       "    </tr>\n",
       "    <tr>\n",
       "      <th>2</th>\n",
       "      <td>Take three people, Persons A, B, and C. They l...</td>\n",
       "      <td>1</td>\n",
       "    </tr>\n",
       "    <tr>\n",
       "      <th>3</th>\n",
       "      <td>(A) Work part-time in high school; Then go to ...</td>\n",
       "      <td>1</td>\n",
       "    </tr>\n",
       "    <tr>\n",
       "      <th>4</th>\n",
       "      <td>When police introduce a new form of speed prev...</td>\n",
       "      <td>1</td>\n",
       "    </tr>\n",
       "  </tbody>\n",
       "</table>\n",
       "</div>"
      ],
      "text/plain": [
       "                                                 text  label\n",
       "id                                                          \n",
       "0   White girls very rarely date Asian men. Even i...      1\n",
       "1   I am a 23 year old male Indian American male. ...      1\n",
       "2   Take three people, Persons A, B, and C. They l...      1\n",
       "3   (A) Work part-time in high school; Then go to ...      1\n",
       "4   When police introduce a new form of speed prev...      1"
      ]
     },
     "execution_count": 4,
     "metadata": {},
     "output_type": "execute_result"
    }
   ],
   "source": [
    "kaggle_train = pd.read_csv('si670_kaggle1_train.csv', index_col=2)\n",
    "kaggle_train.head()"
   ]
  },
  {
   "cell_type": "code",
   "execution_count": 5,
   "id": "c8616b2c",
   "metadata": {},
   "outputs": [
    {
     "data": {
      "text/html": [
       "<div>\n",
       "<style scoped>\n",
       "    .dataframe tbody tr th:only-of-type {\n",
       "        vertical-align: middle;\n",
       "    }\n",
       "\n",
       "    .dataframe tbody tr th {\n",
       "        vertical-align: top;\n",
       "    }\n",
       "\n",
       "    .dataframe thead th {\n",
       "        text-align: right;\n",
       "    }\n",
       "</style>\n",
       "<table border=\"1\" class=\"dataframe\">\n",
       "  <thead>\n",
       "    <tr style=\"text-align: right;\">\n",
       "      <th></th>\n",
       "      <th>text</th>\n",
       "      <th>label</th>\n",
       "    </tr>\n",
       "    <tr>\n",
       "      <th>id</th>\n",
       "      <th></th>\n",
       "      <th></th>\n",
       "    </tr>\n",
       "  </thead>\n",
       "  <tbody>\n",
       "    <tr>\n",
       "      <th>319071</th>\n",
       "      <td>In much the same way as drugs, prostitution, g...</td>\n",
       "      <td>1</td>\n",
       "    </tr>\n",
       "    <tr>\n",
       "      <th>319072</th>\n",
       "      <td>A friend and I were talking about the current ...</td>\n",
       "      <td>1</td>\n",
       "    </tr>\n",
       "    <tr>\n",
       "      <th>319073</th>\n",
       "      <td>While I believe this is primarily an American ...</td>\n",
       "      <td>1</td>\n",
       "    </tr>\n",
       "    <tr>\n",
       "      <th>319074</th>\n",
       "      <td>The basis of this viewpoint is that a system t...</td>\n",
       "      <td>1</td>\n",
       "    </tr>\n",
       "    <tr>\n",
       "      <th>319075</th>\n",
       "      <td>Ah, like it says in \"Dust In The Wind.\" Every ...</td>\n",
       "      <td>1</td>\n",
       "    </tr>\n",
       "  </tbody>\n",
       "</table>\n",
       "</div>"
      ],
      "text/plain": [
       "                                                     text  label\n",
       "id                                                              \n",
       "319071  In much the same way as drugs, prostitution, g...      1\n",
       "319072  A friend and I were talking about the current ...      1\n",
       "319073  While I believe this is primarily an American ...      1\n",
       "319074  The basis of this viewpoint is that a system t...      1\n",
       "319075  Ah, like it says in \"Dust In The Wind.\" Every ...      1"
      ]
     },
     "execution_count": 5,
     "metadata": {},
     "output_type": "execute_result"
    }
   ],
   "source": [
    "kaggle_validation = pd.read_csv('si670_kaggle1_validation.csv', index_col=2)\n",
    "kaggle_validation.head()"
   ]
  },
  {
   "cell_type": "code",
   "execution_count": 20,
   "id": "93fedd1a",
   "metadata": {},
   "outputs": [
    {
     "data": {
      "text/html": [
       "<div>\n",
       "<style scoped>\n",
       "    .dataframe tbody tr th:only-of-type {\n",
       "        vertical-align: middle;\n",
       "    }\n",
       "\n",
       "    .dataframe tbody tr th {\n",
       "        vertical-align: top;\n",
       "    }\n",
       "\n",
       "    .dataframe thead th {\n",
       "        text-align: right;\n",
       "    }\n",
       "</style>\n",
       "<table border=\"1\" class=\"dataframe\">\n",
       "  <thead>\n",
       "    <tr style=\"text-align: right;\">\n",
       "      <th></th>\n",
       "      <th>id</th>\n",
       "      <th>text</th>\n",
       "    </tr>\n",
       "  </thead>\n",
       "  <tbody>\n",
       "    <tr>\n",
       "      <th>60742</th>\n",
       "      <td>436605</td>\n",
       "      <td>The effects on miRNAs caused by HIVSIV infecti...</td>\n",
       "    </tr>\n",
       "  </tbody>\n",
       "</table>\n",
       "</div>"
      ],
      "text/plain": [
       "           id                                               text\n",
       "60742  436605  The effects on miRNAs caused by HIVSIV infecti..."
      ]
     },
     "execution_count": 20,
     "metadata": {},
     "output_type": "execute_result"
    }
   ],
   "source": [
    "kaggle_test = pd.read_csv('test.csv')\n",
    "kaggle_test.tail(1)"
   ]
  },
  {
   "cell_type": "code",
   "execution_count": null,
   "id": "6152403e",
   "metadata": {},
   "outputs": [
    {
     "name": "stdout",
     "output_type": "stream",
     "text": [
      "Best parameters: {'clf__alpha': 1e-05}\n",
      "Best CV score: 0.6691945452742143\n"
     ]
    },
    {
     "data": {
      "text/plain": [
       "'              precision    recall  f1-score   support\\n\\n           0       0.84      0.97      0.90     45073\\n           1       0.90      0.56      0.69     18742\\n\\n    accuracy                           0.85     63815\\n   macro avg       0.87      0.77      0.80     63815\\nweighted avg       0.86      0.85      0.84     63815\\n'"
      ]
     },
     "execution_count": 7,
     "metadata": {},
     "output_type": "execute_result"
    }
   ],
   "source": [
    "# first, a baseline model with Hashing Vectorizer and SGDClassifier\n",
    "from sklearn.feature_extraction.text import TfidfVectorizer\n",
    "from sklearn.linear_model import LogisticRegression\n",
    "from sklearn.pipeline import Pipeline\n",
    "from sklearn.model_selection import train_test_split, GridSearchCV\n",
    "from sklearn.metrics import classification_report\n",
    "from sklearn.feature_extraction.text import HashingVectorizer, TfidfTransformer\n",
    "from sklearn.linear_model import SGDClassifier\n",
    "\n",
    "X_train, X_test, y_train, y_test = train_test_split(\n",
    "    kaggle_train['text'], kaggle_train['label'], test_size=0.2, random_state=42)\n",
    "\n",
    "pipe = Pipeline([\n",
    "    (\"hash\", HashingVectorizer(analyzer=\"word\", ngram_range=(1,2),\n",
    "                               n_features=2**21, alternate_sign=False,\n",
    "                               norm=None, dtype=\"float32\")),\n",
    "    (\"tfidf\", TfidfTransformer()),  # produces float64 idf, OK; keeps sparse\n",
    "    (\"clf\", SGDClassifier(loss=\"log_loss\", alpha=1e-4,\n",
    "                          early_stopping=True, n_jobs=1))\n",
    "], memory=\"tmp_cache\")\n",
    "\n",
    "param_grid = {\n",
    "    \"clf__alpha\": [1e-5, 1e-4, 1e-3],\n",
    "}\n",
    "\n",
    "grid = GridSearchCV(\n",
    "    pipe,\n",
    "    param_grid,\n",
    "    cv=3,\n",
    "    scoring=\"f1\",\n",
    "    n_jobs=-1\n",
    ")\n",
    "grid.fit(X_train, y_train)\n",
    "print(\"Best parameters:\", grid.best_params_)\n",
    "print(\"Best CV score:\", grid.best_score_)\n",
    "\n",
    "# takes 1min30s on 12 cores with 16GB RAM"
   ]
  },
  {
   "cell_type": "code",
   "execution_count": null,
   "id": "0a395b1c",
   "metadata": {},
   "outputs": [],
   "source": []
  },
  {
   "cell_type": "markdown",
   "id": "0262e52c",
   "metadata": {},
   "source": [
    "|              | precision | recall | f1-score | support |\n",
    "|--------------|-----------|--------|----------|---------|\n",
    "| 0            | 0.84      | 0.97   | 0.90     | 45073   |\n",
    "| 1            | 0.90      | 0.56   | 0.69     | 18742   |\n",
    "| **accuracy** |           |        | 0.85     | 63815   |\n",
    "| macro avg    | 0.87      | 0.77   | 0.80     | 63815   |\n",
    "| weighted avg | 0.86      | 0.85   | 0.84     | 63815   |\n"
   ]
  },
  {
   "cell_type": "code",
   "execution_count": 9,
   "id": "4641bf48",
   "metadata": {},
   "outputs": [
    {
     "name": "stdout",
     "output_type": "stream",
     "text": [
      "0.5990685460954345\n"
     ]
    }
   ],
   "source": [
    "# test the model on the validation set\n",
    "from sklearn.metrics import f1_score\n",
    "y_val_pred = grid.predict(kaggle_validation['text'])\n",
    "print(f1_score(kaggle_validation['label'], y_val_pred, average='weighted'))"
   ]
  },
  {
   "cell_type": "code",
   "execution_count": 21,
   "id": "2114b79f",
   "metadata": {},
   "outputs": [],
   "source": [
    "# predict on the test set\n",
    "\n",
    "y_test_pred = grid.predict(kaggle_test['text'])\n",
    "submission = pd.DataFrame({\n",
    "    'id': kaggle_test.id,\n",
    "    'label': y_test_pred\n",
    "})\n",
    "submission.to_csv('kaggle_submission.csv', index=False)"
   ]
  },
  {
   "cell_type": "code",
   "execution_count": null,
   "id": "738b96e1",
   "metadata": {},
   "outputs": [
    {
     "name": "stdout",
     "output_type": "stream",
     "text": [
      "Warning: Your Kaggle API key is readable by other users on this system! To fix this, you can run 'chmod 600 /home/winger216/.config/kaggle/kaggle.json'\n",
      "100%|█████████████████████████████████████████| 534k/534k [00:00<00:00, 932kB/s]\n",
      "Successfully submitted to F25 SI 670 Kaggle 1"
     ]
    }
   ],
   "source": [
    "# !kaggle competitions submit -c f-25-si-670-kaggle-1 -f kaggle_submission.csv -m \"baseline model with Hashing Vectorizer and SGDClassifier\""
   ]
  }
 ],
 "metadata": {
  "kernelspec": {
   "display_name": "remote-projects",
   "language": "python",
   "name": "python3"
  },
  "language_info": {
   "codemirror_mode": {
    "name": "ipython",
    "version": 3
   },
   "file_extension": ".py",
   "mimetype": "text/x-python",
   "name": "python",
   "nbconvert_exporter": "python",
   "pygments_lexer": "ipython3",
   "version": "3.12.11"
  }
 },
 "nbformat": 4,
 "nbformat_minor": 5
}
